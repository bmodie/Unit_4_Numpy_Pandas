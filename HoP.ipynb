{
 "cells": [
  {
   "cell_type": "markdown",
   "metadata": {},
   "source": [
    "# Heroes of Pymoli Data Analysis"
   ]
  },
  {
   "cell_type": "markdown",
   "metadata": {},
   "source": [
    "#3 Observed Trends\n",
    "\n",
    "-  Heroes of Pymoli is largely dominated by males players (i.e., Males: 82%, Females: 16%, Other: 2%)\n",
    "-  In-game purchases are broken out in nearly the same ratio as the gender percentages. \n",
    "-  In-game purchases are not a huge money maker. Only 4,879 dollars have been spent on in-game items and no one player has spent more than 20 dollars.\n",
    "-  Of the in-game items, the Bone Crushing Silver Skewer is most profitable, having generated roughly 68 dollars in total purchase value."
   ]
  },
  {
   "cell_type": "code",
   "execution_count": 2,
   "metadata": {
    "collapsed": true
   },
   "outputs": [],
   "source": [
    "import pandas as pd\n",
    "import numpy as np\n",
    "import json"
   ]
  },
  {
   "cell_type": "code",
   "execution_count": 145,
   "metadata": {
    "collapsed": true
   },
   "outputs": [],
   "source": [
    "# read in Players_Complete csv file\n",
    "total_player_df = pd.read_csv('players_complete.csv')\n",
    "\n",
    "# read purchase data json file\n",
    "purchase_df = pd.read_json('purchase_data.json')\n",
    "purchase2_df = pd.read_json('purchase_data2.json')\n",
    "purchase3_df = pd.read_json('purchase_data_3.json~HEAD')\n",
    "\n",
    "# read in items inventory\n",
    "items_inventory = pd.read_csv('items_complete.csv')"
   ]
  },
  {
   "cell_type": "code",
   "execution_count": 146,
   "metadata": {},
   "outputs": [
    {
     "data": {
      "text/html": [
       "<div>\n",
       "<style>\n",
       "    .dataframe thead tr:only-child th {\n",
       "        text-align: right;\n",
       "    }\n",
       "\n",
       "    .dataframe thead th {\n",
       "        text-align: left;\n",
       "    }\n",
       "\n",
       "    .dataframe tbody tr th {\n",
       "        vertical-align: top;\n",
       "    }\n",
       "</style>\n",
       "<table border=\"1\" class=\"dataframe\">\n",
       "  <thead>\n",
       "    <tr style=\"text-align: right;\">\n",
       "      <th></th>\n",
       "      <th>Player ID</th>\n",
       "      <th>Screen Name</th>\n",
       "      <th>Age</th>\n",
       "      <th>Gender</th>\n",
       "    </tr>\n",
       "  </thead>\n",
       "  <tbody>\n",
       "    <tr>\n",
       "      <th>0</th>\n",
       "      <td>0</td>\n",
       "      <td>Marughi89</td>\n",
       "      <td>21</td>\n",
       "      <td>Male</td>\n",
       "    </tr>\n",
       "    <tr>\n",
       "      <th>1</th>\n",
       "      <td>1</td>\n",
       "      <td>Lirtedy26</td>\n",
       "      <td>40</td>\n",
       "      <td>Male</td>\n",
       "    </tr>\n",
       "    <tr>\n",
       "      <th>2</th>\n",
       "      <td>2</td>\n",
       "      <td>Chamistast30</td>\n",
       "      <td>7</td>\n",
       "      <td>Male</td>\n",
       "    </tr>\n",
       "    <tr>\n",
       "      <th>3</th>\n",
       "      <td>3</td>\n",
       "      <td>Lisirra25</td>\n",
       "      <td>24</td>\n",
       "      <td>Male</td>\n",
       "    </tr>\n",
       "    <tr>\n",
       "      <th>4</th>\n",
       "      <td>4</td>\n",
       "      <td>Lirtim36</td>\n",
       "      <td>23</td>\n",
       "      <td>Male</td>\n",
       "    </tr>\n",
       "  </tbody>\n",
       "</table>\n",
       "</div>"
      ],
      "text/plain": [
       "   Player ID   Screen Name  Age Gender\n",
       "0          0     Marughi89   21   Male\n",
       "1          1     Lirtedy26   40   Male\n",
       "2          2  Chamistast30    7   Male\n",
       "3          3     Lisirra25   24   Male\n",
       "4          4      Lirtim36   23   Male"
      ]
     },
     "execution_count": 146,
     "metadata": {},
     "output_type": "execute_result"
    }
   ],
   "source": [
    "## Player Count\n",
    "# Change Column Header from SN to Screen Name\n",
    "total_player_df = total_player_df.rename(columns={'SN':'Screen Name'})\n",
    "total_player_df.head()"
   ]
  },
  {
   "cell_type": "code",
   "execution_count": 147,
   "metadata": {},
   "outputs": [
    {
     "data": {
      "text/html": [
       "<div>\n",
       "<style>\n",
       "    .dataframe thead tr:only-child th {\n",
       "        text-align: right;\n",
       "    }\n",
       "\n",
       "    .dataframe thead th {\n",
       "        text-align: left;\n",
       "    }\n",
       "\n",
       "    .dataframe tbody tr th {\n",
       "        vertical-align: top;\n",
       "    }\n",
       "</style>\n",
       "<table border=\"1\" class=\"dataframe\">\n",
       "  <thead>\n",
       "    <tr style=\"text-align: right;\">\n",
       "      <th></th>\n",
       "      <th>Total Players</th>\n",
       "    </tr>\n",
       "  </thead>\n",
       "  <tbody>\n",
       "    <tr>\n",
       "      <th>0</th>\n",
       "      <td>1161</td>\n",
       "    </tr>\n",
       "  </tbody>\n",
       "</table>\n",
       "</div>"
      ],
      "text/plain": [
       "   Total Players\n",
       "0           1161"
      ]
     },
     "execution_count": 147,
     "metadata": {},
     "output_type": "execute_result"
    }
   ],
   "source": [
    "## Player Count\n",
    "# Count the total number of unique players\n",
    "player_count = len(total_player_df['Screen Name'].unique())\n",
    "\n",
    "total_players = pd.DataFrame({'Total Players':[player_count]})\n",
    "total_players"
   ]
  },
  {
   "cell_type": "code",
   "execution_count": 165,
   "metadata": {},
   "outputs": [
    {
     "data": {
      "text/html": [
       "<style  type=\"text/css\" >\n",
       "</style>  \n",
       "<table id=\"T_a9bb3f28_184a_11e8_824a_bc8385f28f74\" > \n",
       "<thead>    <tr> \n",
       "        <th class=\"blank level0\" ></th> \n",
       "        <th class=\"col_heading level0 col0\" >Male Players</th> \n",
       "        <th class=\"col_heading level0 col1\" >Percent Male</th> \n",
       "        <th class=\"col_heading level0 col2\" >Female Players</th> \n",
       "        <th class=\"col_heading level0 col3\" >Percent Female</th> \n",
       "        <th class=\"col_heading level0 col4\" >Other Players</th> \n",
       "        <th class=\"col_heading level0 col5\" >Percent Other</th> \n",
       "    </tr></thead> \n",
       "<tbody>    <tr> \n",
       "        <th id=\"T_a9bb3f28_184a_11e8_824a_bc8385f28f74level0_row0\" class=\"row_heading level0 row0\" >0</th> \n",
       "        <td id=\"T_a9bb3f28_184a_11e8_824a_bc8385f28f74row0_col0\" class=\"data row0 col0\" >954</td> \n",
       "        <td id=\"T_a9bb3f28_184a_11e8_824a_bc8385f28f74row0_col1\" class=\"data row0 col1\" >82.17%</td> \n",
       "        <td id=\"T_a9bb3f28_184a_11e8_824a_bc8385f28f74row0_col2\" class=\"data row0 col2\" >187</td> \n",
       "        <td id=\"T_a9bb3f28_184a_11e8_824a_bc8385f28f74row0_col3\" class=\"data row0 col3\" >16.11%</td> \n",
       "        <td id=\"T_a9bb3f28_184a_11e8_824a_bc8385f28f74row0_col4\" class=\"data row0 col4\" >20</td> \n",
       "        <td id=\"T_a9bb3f28_184a_11e8_824a_bc8385f28f74row0_col5\" class=\"data row0 col5\" >1.72%</td> \n",
       "    </tr></tbody> \n",
       "</table> "
      ],
      "text/plain": [
       "<pandas.io.formats.style.Styler at 0x22e6cba60b8>"
      ]
     },
     "execution_count": 165,
     "metadata": {},
     "output_type": "execute_result"
    }
   ],
   "source": [
    "## Gender Demographics\n",
    "# Identify percentage of male, female, and other/non-disclosed players\n",
    "\n",
    "male_players = total_player_df['Gender'].value_counts()['Male']\n",
    "perc_male = (male_players / player_count) * 100\n",
    "\n",
    "female_players = total_player_df['Gender'].value_counts()['Female']\n",
    "perc_female = (female_players / player_count) * 100\n",
    "\n",
    "other_players = player_count - male_players - female_players\n",
    "perc_other = (other_players / player_count) * 100\n",
    "\n",
    "gender_demographics = pd.DataFrame({\"Male Players\": [male_players],\n",
    "                                   \"Percent Male\": [perc_male],\n",
    "                                   \"Female Players\": [female_players],\n",
    "                                   \"Percent Female\": [perc_female],\n",
    "                                   \"Other Players\": [other_players],\n",
    "                                   \"Percent Other\":[perc_other],\n",
    "})\n",
    "\n",
    "gender_demographics = gender_demographics[['Male Players','Percent Male','Female Players','Percent Female','Other Players','Percent Other']]\n",
    "#gender_demographics = gender_demographics.round(2)\n",
    "gender_demographics.style.format({\"Percent Male\": \"{:.2f}%\", \"Percent Female\": \"{:.2f}%\", \"Percent Other\": \"{:.2f}%\"})\n"
   ]
  },
  {
   "cell_type": "code",
   "execution_count": 163,
   "metadata": {},
   "outputs": [
    {
     "data": {
      "text/html": [
       "<style  type=\"text/css\" >\n",
       "</style>  \n",
       "<table id=\"T_2dac39f8_184a_11e8_a49f_bc8385f28f74\" > \n",
       "<thead>    <tr> \n",
       "        <th class=\"blank level0\" ></th> \n",
       "        <th class=\"col_heading level0 col0\" >Number of Unique Items</th> \n",
       "        <th class=\"col_heading level0 col1\" >Average Price</th> \n",
       "        <th class=\"col_heading level0 col2\" >Number of Purchases</th> \n",
       "        <th class=\"col_heading level0 col3\" >Total Revenue</th> \n",
       "    </tr></thead> \n",
       "<tbody>    <tr> \n",
       "        <th id=\"T_2dac39f8_184a_11e8_a49f_bc8385f28f74level0_row0\" class=\"row_heading level0 row0\" >0</th> \n",
       "        <td id=\"T_2dac39f8_184a_11e8_a49f_bc8385f28f74row0_col0\" class=\"data row0 col0\" >180</td> \n",
       "        <td id=\"T_2dac39f8_184a_11e8_a49f_bc8385f28f74row0_col1\" class=\"data row0 col1\" >$2.98</td> \n",
       "        <td id=\"T_2dac39f8_184a_11e8_a49f_bc8385f28f74row0_col2\" class=\"data row0 col2\" >1638</td> \n",
       "        <td id=\"T_2dac39f8_184a_11e8_a49f_bc8385f28f74row0_col3\" class=\"data row0 col3\" >$4879.60</td> \n",
       "    </tr></tbody> \n",
       "</table> "
      ],
      "text/plain": [
       "<pandas.io.formats.style.Styler at 0x22e6b9e2978>"
      ]
     },
     "execution_count": 163,
     "metadata": {},
     "output_type": "execute_result"
    }
   ],
   "source": [
    "## Purchasing Analysis (TOTAL)\n",
    "# Concatenate the 3 json files\n",
    "all_purchases = pd.concat([purchase_df, purchase2_df, purchase3_df], ignore_index=True)\n",
    "\n",
    "# Number of Unique Items\n",
    "#unique_items = all_purchase['Item Name'].count()\n",
    "unique_items = len(all_purchases[\"Item Name\"].unique())\n",
    "\n",
    "# Average purchase price\n",
    "avg_purchase_price = all_purchases['Price'].mean()\n",
    "\n",
    "# Total purchases\n",
    "total_purchases = len(all_purchases)\n",
    "\n",
    "# Total revenue\n",
    "total_revenue = all_purchases['Price'].sum()\n",
    "\n",
    "# Create DataFrame\n",
    "purchase_analysis_total = pd.DataFrame({\"Number of Unique Items\": [unique_items],\n",
    "                                   \"Average Price\": [avg_purchase_price],\n",
    "                                   \"Number of Purchases\": [total_purchases],\n",
    "                                   \"Total Revenue\": [total_revenue]\n",
    "})\n",
    "\n",
    "purchase_analysis_total = purchase_analysis_total[['Number of Unique Items', 'Average Price', 'Number of Purchases', 'Total Revenue']]\n",
    "purchase_analysis_total.style.format({\"Average Price\": \"${:.2f}\", \"Total Revenue\": \"${:.2f}\"})\n",
    "\n"
   ]
  },
  {
   "cell_type": "code",
   "execution_count": 160,
   "metadata": {},
   "outputs": [
    {
     "data": {
      "text/html": [
       "<style  type=\"text/css\" >\n",
       "</style>  \n",
       "<table id=\"T_01cdb568_184a_11e8_9f2f_bc8385f28f74\" > \n",
       "<thead>    <tr> \n",
       "        <th class=\"blank level0\" ></th> \n",
       "        <th class=\"col_heading level0 col0\" >Gender</th> \n",
       "        <th class=\"col_heading level0 col1\" >Purchase Count</th> \n",
       "        <th class=\"col_heading level0 col2\" >Average Price</th> \n",
       "        <th class=\"col_heading level0 col3\" >Total Value</th> \n",
       "    </tr></thead> \n",
       "<tbody>    <tr> \n",
       "        <th id=\"T_01cdb568_184a_11e8_9f2f_bc8385f28f74level0_row0\" class=\"row_heading level0 row0\" >0</th> \n",
       "        <td id=\"T_01cdb568_184a_11e8_9f2f_bc8385f28f74row0_col0\" class=\"data row0 col0\" >Male</td> \n",
       "        <td id=\"T_01cdb568_184a_11e8_9f2f_bc8385f28f74row0_col1\" class=\"data row0 col1\" >1339</td> \n",
       "        <td id=\"T_01cdb568_184a_11e8_9f2f_bc8385f28f74row0_col2\" class=\"data row0 col2\" >$2.99</td> \n",
       "        <td id=\"T_01cdb568_184a_11e8_9f2f_bc8385f28f74row0_col3\" class=\"data row0 col3\" >$3997.79</td> \n",
       "    </tr>    <tr> \n",
       "        <th id=\"T_01cdb568_184a_11e8_9f2f_bc8385f28f74level0_row1\" class=\"row_heading level0 row1\" >1</th> \n",
       "        <td id=\"T_01cdb568_184a_11e8_9f2f_bc8385f28f74row1_col0\" class=\"data row1 col0\" >Female</td> \n",
       "        <td id=\"T_01cdb568_184a_11e8_9f2f_bc8385f28f74row1_col1\" class=\"data row1 col1\" >279</td> \n",
       "        <td id=\"T_01cdb568_184a_11e8_9f2f_bc8385f28f74row1_col2\" class=\"data row1 col2\" >$2.94</td> \n",
       "        <td id=\"T_01cdb568_184a_11e8_9f2f_bc8385f28f74row1_col3\" class=\"data row1 col3\" >$820.09</td> \n",
       "    </tr>    <tr> \n",
       "        <th id=\"T_01cdb568_184a_11e8_9f2f_bc8385f28f74level0_row2\" class=\"row_heading level0 row2\" >2</th> \n",
       "        <td id=\"T_01cdb568_184a_11e8_9f2f_bc8385f28f74row2_col0\" class=\"data row2 col0\" >Other</td> \n",
       "        <td id=\"T_01cdb568_184a_11e8_9f2f_bc8385f28f74row2_col1\" class=\"data row2 col1\" >20</td> \n",
       "        <td id=\"T_01cdb568_184a_11e8_9f2f_bc8385f28f74row2_col2\" class=\"data row2 col2\" >$3.09</td> \n",
       "        <td id=\"T_01cdb568_184a_11e8_9f2f_bc8385f28f74row2_col3\" class=\"data row2 col3\" >$61.72</td> \n",
       "    </tr></tbody> \n",
       "</table> "
      ],
      "text/plain": [
       "<pandas.io.formats.style.Styler at 0x22e6b9a6278>"
      ]
     },
     "execution_count": 160,
     "metadata": {},
     "output_type": "execute_result"
    }
   ],
   "source": [
    "## Purchasing Analysis (GENDER) \n",
    "# Identify purchase count by M/F/O\n",
    "male_purchase_count = all_purchases['Gender'].value_counts()['Male']\n",
    "female_purchase_count = all_purchases['Gender'].value_counts()['Female']\n",
    "other_purchase_count = total_purchases - male_purchase_count - female_purchase_count\n",
    "\n",
    "# Average Purchase Price and Total Revenue by M/F/O\n",
    "# males\n",
    "male_purchases = all_purchases.loc[all_purchases['Gender'] == 'Male', :]\n",
    "male_avg_price = male_purchases['Price'].mean()\n",
    "male_revenue = male_purchases['Price'].sum()\n",
    "\n",
    "# females\n",
    "female_purchases = all_purchases.loc[all_purchases['Gender'] == 'Female', :]\n",
    "female_avg_price = female_purchases['Price'].mean()\n",
    "female_revenue = female_purchases['Price'].sum()\n",
    "\n",
    "#others\n",
    "other_purchases_minus_female = all_purchases.loc[all_purchases['Gender'] != 'Female', :]\n",
    "other_purchases = other_purchases_minus_female.loc[other_purchases_minus_female['Gender'] != 'Male', :]\n",
    "other_avg_price = other_purchases['Price'].mean()\n",
    "other_revenue = total_revenue - male_revenue - female_revenue\n",
    "\n",
    "# Normalized Totals of M/F/O\n",
    "\n",
    "# Create DataFrame\n",
    "purchase_analysis_gender = pd.DataFrame({\"Gender\":['Male','Female','Other'],\n",
    "                                         \"Purchase Count\":[male_purchase_count,female_purchase_count,other_purchase_count],\n",
    "                                         \"Average Price\":[male_avg_price,female_avg_price, other_avg_price],\n",
    "                                         \"Total Value\":[male_revenue, female_revenue, other_revenue]})\n",
    "\n",
    "purchase_analysis_gender = purchase_analysis_gender[['Gender','Purchase Count','Average Price','Total Value']]\n",
    "purchase_analysis_gender.style.format({\"Average Price\": \"${:.2f}\", \"Total Value\": \"${:.2f}\"})\n",
    "|"
   ]
  },
  {
   "cell_type": "code",
   "execution_count": 166,
   "metadata": {},
   "outputs": [
    {
     "data": {
      "text/html": [
       "<style  type=\"text/css\" >\n",
       "</style>  \n",
       "<table id=\"T_e91fdb82_184a_11e8_a7c1_bc8385f28f74\" > \n",
       "<thead>    <tr> \n",
       "        <th class=\"blank level0\" ></th> \n",
       "        <th class=\"col_heading level0 col0\" >Total Purchase Value</th> \n",
       "        <th class=\"col_heading level0 col1\" >Purchase Count</th> \n",
       "        <th class=\"col_heading level0 col2\" >Average Purchase Price</th> \n",
       "    </tr>    <tr> \n",
       "        <th class=\"index_name level0\" >Age Bracket</th> \n",
       "        <th class=\"blank\" ></th> \n",
       "        <th class=\"blank\" ></th> \n",
       "        <th class=\"blank\" ></th> \n",
       "    </tr></thead> \n",
       "<tbody>    <tr> \n",
       "        <th id=\"T_e91fdb82_184a_11e8_a7c1_bc8385f28f74level0_row0\" class=\"row_heading level0 row0\" >20 to 24</th> \n",
       "        <td id=\"T_e91fdb82_184a_11e8_a7c1_bc8385f28f74row0_col0\" class=\"data row0 col0\" >$1494.48</td> \n",
       "        <td id=\"T_e91fdb82_184a_11e8_a7c1_bc8385f28f74row0_col1\" class=\"data row0 col1\" >503</td> \n",
       "        <td id=\"T_e91fdb82_184a_11e8_a7c1_bc8385f28f74row0_col2\" class=\"data row0 col2\" >$2.97</td> \n",
       "    </tr>    <tr> \n",
       "        <th id=\"T_e91fdb82_184a_11e8_a7c1_bc8385f28f74level0_row1\" class=\"row_heading level0 row1\" >16 to 20</th> \n",
       "        <td id=\"T_e91fdb82_184a_11e8_a7c1_bc8385f28f74row1_col0\" class=\"data row1 col0\" >$981.50</td> \n",
       "        <td id=\"T_e91fdb82_184a_11e8_a7c1_bc8385f28f74row1_col1\" class=\"data row1 col1\" >332</td> \n",
       "        <td id=\"T_e91fdb82_184a_11e8_a7c1_bc8385f28f74row1_col2\" class=\"data row1 col2\" >$2.96</td> \n",
       "    </tr>    <tr> \n",
       "        <th id=\"T_e91fdb82_184a_11e8_a7c1_bc8385f28f74level0_row2\" class=\"row_heading level0 row2\" >24 to 28</th> \n",
       "        <td id=\"T_e91fdb82_184a_11e8_a7c1_bc8385f28f74row2_col0\" class=\"data row2 col0\" >$700.17</td> \n",
       "        <td id=\"T_e91fdb82_184a_11e8_a7c1_bc8385f28f74row2_col1\" class=\"data row2 col1\" >232</td> \n",
       "        <td id=\"T_e91fdb82_184a_11e8_a7c1_bc8385f28f74row2_col2\" class=\"data row2 col2\" >$3.02</td> \n",
       "    </tr>    <tr> \n",
       "        <th id=\"T_e91fdb82_184a_11e8_a7c1_bc8385f28f74level0_row3\" class=\"row_heading level0 row3\" >12 to 16</th> \n",
       "        <td id=\"T_e91fdb82_184a_11e8_a7c1_bc8385f28f74row3_col0\" class=\"data row3 col0\" >$467.25</td> \n",
       "        <td id=\"T_e91fdb82_184a_11e8_a7c1_bc8385f28f74row3_col1\" class=\"data row3 col1\" >160</td> \n",
       "        <td id=\"T_e91fdb82_184a_11e8_a7c1_bc8385f28f74row3_col2\" class=\"data row3 col2\" >$2.92</td> \n",
       "    </tr>    <tr> \n",
       "        <th id=\"T_e91fdb82_184a_11e8_a7c1_bc8385f28f74level0_row4\" class=\"row_heading level0 row4\" >28 to 32</th> \n",
       "        <td id=\"T_e91fdb82_184a_11e8_a7c1_bc8385f28f74row4_col0\" class=\"data row4 col0\" >$384.69</td> \n",
       "        <td id=\"T_e91fdb82_184a_11e8_a7c1_bc8385f28f74row4_col1\" class=\"data row4 col1\" >127</td> \n",
       "        <td id=\"T_e91fdb82_184a_11e8_a7c1_bc8385f28f74row4_col2\" class=\"data row4 col2\" >$3.03</td> \n",
       "    </tr></tbody> \n",
       "</table> "
      ],
      "text/plain": [
       "<pandas.io.formats.style.Styler at 0x22e6b9cd160>"
      ]
     },
     "execution_count": 166,
     "metadata": {},
     "output_type": "execute_result"
    }
   ],
   "source": [
    "## Age Demographics\n",
    "# Create bins of 4 years\n",
    "# By bin identify: Purchase Count, Avg Purch Price, Total Purch Value, Normalized Totals\n",
    "bins = [0,4,8,12,16,20,24,28,32,36,40,44,48,52]\n",
    "group_names = ['0 to 4','4 to 8','8 to 12','12 to 16','16 to 20','20 to 24','24 to 28','28 to 32','32 to 36','36 to 40','40 to 44','44 to 48','48 to 52']\n",
    "pd.cut(all_purchases['Age'], bins, labels=group_names)\n",
    "all_purchases['Age Bracket'] = pd.cut(all_purchases['Age'], bins, labels=group_names)\n",
    "\n",
    "purchase_groups = all_purchases[['Age Bracket','Price','Item Name']]\n",
    "\n",
    "group_total_purchase = purchase_groups.groupby('Age Bracket')['Price'].sum().to_frame()\n",
    "group_purchase_count = purchase_groups.groupby('Age Bracket')['Item Name'].count().to_frame()\n",
    "group_purchase_avg = purchase_groups.groupby('Age Bracket')['Price'].mean().to_frame()\n",
    "\n",
    "group_total_purchase.columns=[\"Age Bracket\"]\n",
    "join_one = group_total_purchase.join(group_purchase_count, how=\"left\")\n",
    "join_one.columns=[\"Total Purchase Value\", \"Purchase Count\"]\n",
    "\n",
    "join_two = join_one.join(group_purchase_avg, how=\"inner\")\n",
    "join_two.columns=[\"Total Purchase Value\", \"Purchase Count\", \"Average Purchase Price\"]\n",
    "\n",
    "age_demo_df = join_two[[\"Total Purchase Value\",\"Purchase Count\", \"Average Purchase Price\"]]\n",
    "age_demo_final = age_demo_df.sort_values('Total Purchase Value', ascending=False).head()\n",
    "age_demo_final.style.format({\"Average Purchase Price\": \"${:.2f}\", \"Total Purchase Value\": \"${:.2f}\"})\n"
   ]
  },
  {
   "cell_type": "code",
   "execution_count": 167,
   "metadata": {},
   "outputs": [
    {
     "data": {
      "text/html": [
       "<style  type=\"text/css\" >\n",
       "</style>  \n",
       "<table id=\"T_0b1b2c3e_184b_11e8_99b0_bc8385f28f74\" > \n",
       "<thead>    <tr> \n",
       "        <th class=\"blank level0\" ></th> \n",
       "        <th class=\"col_heading level0 col0\" >Total Purchase Value</th> \n",
       "        <th class=\"col_heading level0 col1\" >Purchase Count</th> \n",
       "        <th class=\"col_heading level0 col2\" >Average Purchase Price</th> \n",
       "    </tr>    <tr> \n",
       "        <th class=\"index_name level0\" >SN</th> \n",
       "        <th class=\"blank\" ></th> \n",
       "        <th class=\"blank\" ></th> \n",
       "        <th class=\"blank\" ></th> \n",
       "    </tr></thead> \n",
       "<tbody>    <tr> \n",
       "        <th id=\"T_0b1b2c3e_184b_11e8_99b0_bc8385f28f74level0_row0\" class=\"row_heading level0 row0\" >Aerithllora36</th> \n",
       "        <td id=\"T_0b1b2c3e_184b_11e8_99b0_bc8385f28f74row0_col0\" class=\"data row0 col0\" >$19.14</td> \n",
       "        <td id=\"T_0b1b2c3e_184b_11e8_99b0_bc8385f28f74row0_col1\" class=\"data row0 col1\" >6</td> \n",
       "        <td id=\"T_0b1b2c3e_184b_11e8_99b0_bc8385f28f74row0_col2\" class=\"data row0 col2\" >$3.19</td> \n",
       "    </tr>    <tr> \n",
       "        <th id=\"T_0b1b2c3e_184b_11e8_99b0_bc8385f28f74level0_row1\" class=\"row_heading level0 row1\" >Sondim43</th> \n",
       "        <td id=\"T_0b1b2c3e_184b_11e8_99b0_bc8385f28f74row1_col0\" class=\"data row1 col0\" >$17.81</td> \n",
       "        <td id=\"T_0b1b2c3e_184b_11e8_99b0_bc8385f28f74row1_col1\" class=\"data row1 col1\" >5</td> \n",
       "        <td id=\"T_0b1b2c3e_184b_11e8_99b0_bc8385f28f74row1_col2\" class=\"data row1 col2\" >$3.56</td> \n",
       "    </tr>    <tr> \n",
       "        <th id=\"T_0b1b2c3e_184b_11e8_99b0_bc8385f28f74level0_row2\" class=\"row_heading level0 row2\" >Rinallorap73</th> \n",
       "        <td id=\"T_0b1b2c3e_184b_11e8_99b0_bc8385f28f74row2_col0\" class=\"data row2 col0\" >$17.50</td> \n",
       "        <td id=\"T_0b1b2c3e_184b_11e8_99b0_bc8385f28f74row2_col1\" class=\"data row2 col1\" >5</td> \n",
       "        <td id=\"T_0b1b2c3e_184b_11e8_99b0_bc8385f28f74row2_col2\" class=\"data row2 col2\" >$3.50</td> \n",
       "    </tr>    <tr> \n",
       "        <th id=\"T_0b1b2c3e_184b_11e8_99b0_bc8385f28f74level0_row3\" class=\"row_heading level0 row3\" >Undirrala66</th> \n",
       "        <td id=\"T_0b1b2c3e_184b_11e8_99b0_bc8385f28f74row3_col0\" class=\"data row3 col0\" >$17.06</td> \n",
       "        <td id=\"T_0b1b2c3e_184b_11e8_99b0_bc8385f28f74row3_col1\" class=\"data row3 col1\" >5</td> \n",
       "        <td id=\"T_0b1b2c3e_184b_11e8_99b0_bc8385f28f74row3_col2\" class=\"data row3 col2\" >$3.41</td> \n",
       "    </tr>    <tr> \n",
       "        <th id=\"T_0b1b2c3e_184b_11e8_99b0_bc8385f28f74level0_row4\" class=\"row_heading level0 row4\" >Arithllorin55</th> \n",
       "        <td id=\"T_0b1b2c3e_184b_11e8_99b0_bc8385f28f74row4_col0\" class=\"data row4 col0\" >$16.80</td> \n",
       "        <td id=\"T_0b1b2c3e_184b_11e8_99b0_bc8385f28f74row4_col1\" class=\"data row4 col1\" >4</td> \n",
       "        <td id=\"T_0b1b2c3e_184b_11e8_99b0_bc8385f28f74row4_col2\" class=\"data row4 col2\" >$4.20</td> \n",
       "    </tr></tbody> \n",
       "</table> "
      ],
      "text/plain": [
       "<pandas.io.formats.style.Styler at 0x22e6b9f7400>"
      ]
     },
     "execution_count": 167,
     "metadata": {},
     "output_type": "execute_result"
    }
   ],
   "source": [
    "## Top Spenders\n",
    "# Identify the top 5 spenders in the game by total purchase value (list: SN, Purch Count, Avg Purch Price, Total Purch. Price)\n",
    "top_spenders = all_purchases[['Price','SN']]\n",
    "\n",
    "sn_total_purchase = top_spenders.groupby('SN')['Price'].sum().to_frame()\n",
    "sn_purchase_count = top_spenders.groupby('SN')['Price'].count().to_frame()\n",
    "sn_purchase_avg = top_spenders.groupby('SN')['Price'].mean().to_frame()\n",
    "\n",
    "sn_total_purchase.columns=[\"Total Purchase Value\"]\n",
    "join_one = sn_total_purchase.join(sn_purchase_count, how=\"left\")\n",
    "join_one.columns=[\"Total Purchase Value\", \"Purchase Count\"]\n",
    "\n",
    "join_two = join_one.join(sn_purchase_avg, how=\"inner\")\n",
    "join_two.columns=[\"Total Purchase Value\", \"Purchase Count\", \"Average Purchase Price\"]\n",
    "\n",
    "top_spenders_df = join_two[[\"Total Purchase Value\", \"Purchase Count\", \"Average Purchase Price\"]]\n",
    "top_spenders_final = top_spenders_df.sort_values('Total Purchase Value', ascending=False).head()\n",
    "top_spenders_final.style.format({\"Average Purchase Price\": \"${:.2f}\", \"Total Purchase Value\": \"${:.2f}\"})\n"
   ]
  },
  {
   "cell_type": "code",
   "execution_count": 153,
   "metadata": {},
   "outputs": [
    {
     "data": {
      "text/html": [
       "<style  type=\"text/css\" >\n",
       "</style>  \n",
       "<table id=\"T_97ef4e50_1846_11e8_bc91_bc8385f28f74\" > \n",
       "<thead>    <tr> \n",
       "        <th class=\"blank level0\" ></th> \n",
       "        <th class=\"col_heading level0 col0\" >Item Name</th> \n",
       "        <th class=\"col_heading level0 col1\" >Item Purchase Count</th> \n",
       "        <th class=\"col_heading level0 col2\" >Total Purchase Value</th> \n",
       "        <th class=\"col_heading level0 col3\" >Item Price</th> \n",
       "    </tr></thead> \n",
       "<tbody>    <tr> \n",
       "        <th id=\"T_97ef4e50_1846_11e8_bc91_bc8385f28f74level0_row0\" class=\"row_heading level0 row0\" >111</th> \n",
       "        <td id=\"T_97ef4e50_1846_11e8_bc91_bc8385f28f74row0_col0\" class=\"data row0 col0\" >Azurewrath</td> \n",
       "        <td id=\"T_97ef4e50_1846_11e8_bc91_bc8385f28f74row0_col1\" class=\"data row0 col1\" >16</td> \n",
       "        <td id=\"T_97ef4e50_1846_11e8_bc91_bc8385f28f74row0_col2\" class=\"data row0 col2\" >$62.23</td> \n",
       "        <td id=\"T_97ef4e50_1846_11e8_bc91_bc8385f28f74row0_col3\" class=\"data row0 col3\" >$2.22</td> \n",
       "    </tr>    <tr> \n",
       "        <th id=\"T_97ef4e50_1846_11e8_bc91_bc8385f28f74level0_row1\" class=\"row_heading level0 row1\" >31</th> \n",
       "        <td id=\"T_97ef4e50_1846_11e8_bc91_bc8385f28f74row1_col0\" class=\"data row1 col0\" >Shadow Strike, Glory of Ending Hope</td> \n",
       "        <td id=\"T_97ef4e50_1846_11e8_bc91_bc8385f28f74row1_col1\" class=\"data row1 col1\" >16</td> \n",
       "        <td id=\"T_97ef4e50_1846_11e8_bc91_bc8385f28f74row1_col2\" class=\"data row1 col2\" >$35.16</td> \n",
       "        <td id=\"T_97ef4e50_1846_11e8_bc91_bc8385f28f74row1_col3\" class=\"data row1 col3\" >$1.93</td> \n",
       "    </tr>    <tr> \n",
       "        <th id=\"T_97ef4e50_1846_11e8_bc91_bc8385f28f74level0_row2\" class=\"row_heading level0 row2\" >92</th> \n",
       "        <td id=\"T_97ef4e50_1846_11e8_bc91_bc8385f28f74row2_col0\" class=\"data row2 col0\" >Reaper's Toll</td> \n",
       "        <td id=\"T_97ef4e50_1846_11e8_bc91_bc8385f28f74row2_col1\" class=\"data row2 col1\" >15</td> \n",
       "        <td id=\"T_97ef4e50_1846_11e8_bc91_bc8385f28f74row2_col2\" class=\"data row2 col2\" >$30.34</td> \n",
       "        <td id=\"T_97ef4e50_1846_11e8_bc91_bc8385f28f74row2_col3\" class=\"data row2 col3\" >$4.56</td> \n",
       "    </tr>    <tr> \n",
       "        <th id=\"T_97ef4e50_1846_11e8_bc91_bc8385f28f74level0_row3\" class=\"row_heading level0 row3\" >91</th> \n",
       "        <td id=\"T_97ef4e50_1846_11e8_bc91_bc8385f28f74row3_col0\" class=\"data row3 col0\" >Malice, Legacy of the Queen</td> \n",
       "        <td id=\"T_97ef4e50_1846_11e8_bc91_bc8385f28f74row3_col1\" class=\"data row3 col1\" >15</td> \n",
       "        <td id=\"T_97ef4e50_1846_11e8_bc91_bc8385f28f74row3_col2\" class=\"data row3 col2\" >$41.74</td> \n",
       "        <td id=\"T_97ef4e50_1846_11e8_bc91_bc8385f28f74row3_col3\" class=\"data row3 col3\" >$2.38</td> \n",
       "    </tr>    <tr> \n",
       "        <th id=\"T_97ef4e50_1846_11e8_bc91_bc8385f28f74level0_row4\" class=\"row_heading level0 row4\" >84</th> \n",
       "        <td id=\"T_97ef4e50_1846_11e8_bc91_bc8385f28f74row4_col0\" class=\"data row4 col0\" >Thorn, Satchel of Dark Souls</td> \n",
       "        <td id=\"T_97ef4e50_1846_11e8_bc91_bc8385f28f74row4_col1\" class=\"data row4 col1\" >15</td> \n",
       "        <td id=\"T_97ef4e50_1846_11e8_bc91_bc8385f28f74row4_col2\" class=\"data row4 col2\" >$43.89</td> \n",
       "        <td id=\"T_97ef4e50_1846_11e8_bc91_bc8385f28f74row4_col3\" class=\"data row4 col3\" >$4.51</td> \n",
       "    </tr></tbody> \n",
       "</table> "
      ],
      "text/plain": [
       "<pandas.io.formats.style.Styler at 0x22e6b98d278>"
      ]
     },
     "execution_count": 153,
     "metadata": {},
     "output_type": "execute_result"
    }
   ],
   "source": [
    "## Most Popular Items\n",
    "# Identify the top 5 items by purchase count (list: Name, Purch Count, Price, Total Purch Value)\n",
    "popular_items = all_purchases[['Item ID','Item Name','Price']]\n",
    "\n",
    "item_purchase_count = popular_items.groupby('Item ID')['Item Name'].count().to_frame()\n",
    "item_total_purchase = popular_items.groupby('Item ID')['Price'].sum().to_frame()\n",
    "item_price = popular_items.groupby('Item ID')['Price'].head().to_frame()\n",
    "item_name = popular_items.groupby('Item ID')['Item Name'].head().to_frame()\n",
    "\n",
    "item_purchase_count.columns=[\"Item Purchase Count\"]\n",
    "join_one = item_purchase_count.join(item_total_purchase, how=\"left\")\n",
    "join_one.columns=[\"Item Purchase Count\", \"Total Purchase Value\"]\n",
    "\n",
    "join_two = join_one.join(item_price, how=\"inner\")\n",
    "join_two.columns=[\"Item Purchase Count\", \"Total Purchase Value\", \"Item Price\"]\n",
    "\n",
    "join_three = join_two.join(item_name, how=\"inner\")\n",
    "join_three.columns=[\"Item Purchase Count\", \"Total Purchase Value\", \"Item Price\",\"Item Name\"]\n",
    "\n",
    "popular_items_df = join_three[[\"Item Name\",\"Item Purchase Count\",\"Total Purchase Value\", \"Item Price\"]]\n",
    "popular_items_final = popular_items_df.sort_values('Item Purchase Count', ascending=False).head()\n",
    "popular_items_final.style.format({\"Total Purchase Value\": \"${:.2f}\", \"Item Price\": \"${:.2f}\"})\n",
    "\n"
   ]
  },
  {
   "cell_type": "code",
   "execution_count": 159,
   "metadata": {},
   "outputs": [
    {
     "data": {
      "text/html": [
       "<style  type=\"text/css\" >\n",
       "</style>  \n",
       "<table id=\"T_1028e90a_1848_11e8_a01d_bc8385f28f74\" > \n",
       "<thead>    <tr> \n",
       "        <th class=\"blank level0\" ></th> \n",
       "        <th class=\"col_heading level0 col0\" >Item Name</th> \n",
       "        <th class=\"col_heading level0 col1\" >Total Purchase Value</th> \n",
       "        <th class=\"col_heading level0 col2\" >Item Purchase Count</th> \n",
       "        <th class=\"col_heading level0 col3\" >Item Price</th> \n",
       "    </tr></thead> \n",
       "<tbody>    <tr> \n",
       "        <th id=\"T_1028e90a_1848_11e8_a01d_bc8385f28f74level0_row0\" class=\"row_heading level0 row0\" >52</th> \n",
       "        <td id=\"T_1028e90a_1848_11e8_a01d_bc8385f28f74row0_col0\" class=\"data row0 col0\" >Bone Crushing Silver Skewer</td> \n",
       "        <td id=\"T_1028e90a_1848_11e8_a01d_bc8385f28f74row0_col1\" class=\"data row0 col1\" >$68.05</td> \n",
       "        <td id=\"T_1028e90a_1848_11e8_a01d_bc8385f28f74row0_col2\" class=\"data row0 col2\" >15</td> \n",
       "        <td id=\"T_1028e90a_1848_11e8_a01d_bc8385f28f74row0_col3\" class=\"data row0 col3\" >$3.37</td> \n",
       "    </tr>    <tr> \n",
       "        <th id=\"T_1028e90a_1848_11e8_a01d_bc8385f28f74level0_row1\" class=\"row_heading level0 row1\" >93</th> \n",
       "        <td id=\"T_1028e90a_1848_11e8_a01d_bc8385f28f74row1_col0\" class=\"data row1 col0\" >Netherbane</td> \n",
       "        <td id=\"T_1028e90a_1848_11e8_a01d_bc8385f28f74row1_col1\" class=\"data row1 col1\" >$63.42</td> \n",
       "        <td id=\"T_1028e90a_1848_11e8_a01d_bc8385f28f74row1_col2\" class=\"data row1 col2\" >14</td> \n",
       "        <td id=\"T_1028e90a_1848_11e8_a01d_bc8385f28f74row1_col3\" class=\"data row1 col3\" >$1.48</td> \n",
       "    </tr>    <tr> \n",
       "        <th id=\"T_1028e90a_1848_11e8_a01d_bc8385f28f74level0_row2\" class=\"row_heading level0 row2\" >111</th> \n",
       "        <td id=\"T_1028e90a_1848_11e8_a01d_bc8385f28f74row2_col0\" class=\"data row2 col0\" >Azurewrath</td> \n",
       "        <td id=\"T_1028e90a_1848_11e8_a01d_bc8385f28f74row2_col1\" class=\"data row2 col1\" >$62.23</td> \n",
       "        <td id=\"T_1028e90a_1848_11e8_a01d_bc8385f28f74row2_col2\" class=\"data row2 col2\" >16</td> \n",
       "        <td id=\"T_1028e90a_1848_11e8_a01d_bc8385f28f74row2_col3\" class=\"data row2 col3\" >$2.22</td> \n",
       "    </tr>    <tr> \n",
       "        <th id=\"T_1028e90a_1848_11e8_a01d_bc8385f28f74level0_row3\" class=\"row_heading level0 row3\" >49</th> \n",
       "        <td id=\"T_1028e90a_1848_11e8_a01d_bc8385f28f74row3_col0\" class=\"data row3 col0\" >Severance</td> \n",
       "        <td id=\"T_1028e90a_1848_11e8_a01d_bc8385f28f74row3_col1\" class=\"data row3 col1\" >$58.03</td> \n",
       "        <td id=\"T_1028e90a_1848_11e8_a01d_bc8385f28f74row3_col2\" class=\"data row3 col2\" >13</td> \n",
       "        <td id=\"T_1028e90a_1848_11e8_a01d_bc8385f28f74row3_col3\" class=\"data row3 col3\" >$1.85</td> \n",
       "    </tr>    <tr> \n",
       "        <th id=\"T_1028e90a_1848_11e8_a01d_bc8385f28f74level0_row4\" class=\"row_heading level0 row4\" >107</th> \n",
       "        <td id=\"T_1028e90a_1848_11e8_a01d_bc8385f28f74row4_col0\" class=\"data row4 col0\" >Spectral Diamond Doomblade</td> \n",
       "        <td id=\"T_1028e90a_1848_11e8_a01d_bc8385f28f74row4_col1\" class=\"data row4 col1\" >$52.87</td> \n",
       "        <td id=\"T_1028e90a_1848_11e8_a01d_bc8385f28f74row4_col2\" class=\"data row4 col2\" >13</td> \n",
       "        <td id=\"T_1028e90a_1848_11e8_a01d_bc8385f28f74row4_col3\" class=\"data row4 col3\" >$4.25</td> \n",
       "    </tr></tbody> \n",
       "</table> "
      ],
      "text/plain": [
       "<pandas.io.formats.style.Styler at 0x22e6b9f55c0>"
      ]
     },
     "execution_count": 159,
     "metadata": {},
     "output_type": "execute_result"
    }
   ],
   "source": [
    "## Most Profitable Items\n",
    "# Identify the top 5 items by purchase value (list: Name, Purch Count, Price, Total Purch Value)\n",
    "profitable_items = all_purchases[['Item ID','Item Name','Price']]\n",
    "\n",
    "profit_item_purchase_count = profitable_items.groupby('Item ID')['Item Name'].count().to_frame()\n",
    "profit_item_total_purchase = profitable_items.groupby('Item ID')['Price'].sum().to_frame()\n",
    "profit_item_price = profitable_items.groupby('Item ID')['Price'].head().to_frame()\n",
    "profit_item_name = profitable_items.groupby('Item ID')['Item Name'].head().to_frame()\n",
    "\n",
    "profit_item_total_purchase.columns=['Total Purchase Value']\n",
    "join_one = profit_item_purchase_count.join(profit_item_total_purchase, how=\"left\")\n",
    "join_one.columns=[\"Item Purchase Count\", \"Total Purchase Value\"]\n",
    "\n",
    "join_two = join_one.join(profit_item_price, how=\"inner\")\n",
    "join_two.columns=[\"Item Purchase Count\", \"Total Purchase Value\", \"Item Price\"]\n",
    "\n",
    "join_three = join_two.join(profit_item_name, how=\"inner\")\n",
    "join_three.columns=[\"Item Purchase Count\", \"Total Purchase Value\", \"Item Price\",\"Item Name\"]\n",
    "\n",
    "profitable_items_df = join_three[[\"Item Name\",\"Total Purchase Value\",\"Item Purchase Count\", \"Item Price\"]]\n",
    "profitable_items_final = profitable_items_df.sort_values('Total Purchase Value', ascending=False).head()\n",
    "profitable_items_final.style.format({\"Total Purchase Value\": \"${:.2f}\", \"Item Price\": \"${:.2f}\"})\n"
   ]
  },
  {
   "cell_type": "code",
   "execution_count": null,
   "metadata": {
    "collapsed": true
   },
   "outputs": [],
   "source": []
  }
 ],
 "metadata": {
  "kernelspec": {
   "display_name": "Python 3",
   "language": "python",
   "name": "python3"
  },
  "language_info": {
   "codemirror_mode": {
    "name": "ipython",
    "version": 3
   },
   "file_extension": ".py",
   "mimetype": "text/x-python",
   "name": "python",
   "nbconvert_exporter": "python",
   "pygments_lexer": "ipython3",
   "version": "3.6.3"
  }
 },
 "nbformat": 4,
 "nbformat_minor": 2
}
