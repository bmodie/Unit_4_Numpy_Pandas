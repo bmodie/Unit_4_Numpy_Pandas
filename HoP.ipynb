{
 "cells": [
  {
   "cell_type": "code",
   "execution_count": 13,
   "metadata": {
    "collapsed": true
   },
   "outputs": [],
   "source": [
    "import pandas as pd\n",
    "import numpy as np\n",
    "import json"
   ]
  },
  {
   "cell_type": "code",
   "execution_count": 14,
   "metadata": {
    "collapsed": true
   },
   "outputs": [],
   "source": [
    "# read in Players_Complete csv file\n",
    "total_player_df = pd.read_csv('players_complete.csv')\n",
    "\n",
    "# read purchase data json file\n",
    "purchase_df = pd.read_json('purchase_data.json')\n",
    "purchase2_df = pd.read_json('purchase_data2.json')\n",
    "purchase3_df = pd.read_json('purchase_data_3.json~HEAD')"
   ]
  },
  {
   "cell_type": "code",
   "execution_count": 15,
   "metadata": {},
   "outputs": [
    {
     "data": {
      "text/html": [
       "<div>\n",
       "<style>\n",
       "    .dataframe thead tr:only-child th {\n",
       "        text-align: right;\n",
       "    }\n",
       "\n",
       "    .dataframe thead th {\n",
       "        text-align: left;\n",
       "    }\n",
       "\n",
       "    .dataframe tbody tr th {\n",
       "        vertical-align: top;\n",
       "    }\n",
       "</style>\n",
       "<table border=\"1\" class=\"dataframe\">\n",
       "  <thead>\n",
       "    <tr style=\"text-align: right;\">\n",
       "      <th></th>\n",
       "      <th>Player ID</th>\n",
       "      <th>Screen Name</th>\n",
       "      <th>Age</th>\n",
       "      <th>Gender</th>\n",
       "    </tr>\n",
       "  </thead>\n",
       "  <tbody>\n",
       "    <tr>\n",
       "      <th>0</th>\n",
       "      <td>0</td>\n",
       "      <td>Marughi89</td>\n",
       "      <td>21</td>\n",
       "      <td>Male</td>\n",
       "    </tr>\n",
       "    <tr>\n",
       "      <th>1</th>\n",
       "      <td>1</td>\n",
       "      <td>Lirtedy26</td>\n",
       "      <td>40</td>\n",
       "      <td>Male</td>\n",
       "    </tr>\n",
       "    <tr>\n",
       "      <th>2</th>\n",
       "      <td>2</td>\n",
       "      <td>Chamistast30</td>\n",
       "      <td>7</td>\n",
       "      <td>Male</td>\n",
       "    </tr>\n",
       "    <tr>\n",
       "      <th>3</th>\n",
       "      <td>3</td>\n",
       "      <td>Lisirra25</td>\n",
       "      <td>24</td>\n",
       "      <td>Male</td>\n",
       "    </tr>\n",
       "    <tr>\n",
       "      <th>4</th>\n",
       "      <td>4</td>\n",
       "      <td>Lirtim36</td>\n",
       "      <td>23</td>\n",
       "      <td>Male</td>\n",
       "    </tr>\n",
       "  </tbody>\n",
       "</table>\n",
       "</div>"
      ],
      "text/plain": [
       "   Player ID   Screen Name  Age Gender\n",
       "0          0     Marughi89   21   Male\n",
       "1          1     Lirtedy26   40   Male\n",
       "2          2  Chamistast30    7   Male\n",
       "3          3     Lisirra25   24   Male\n",
       "4          4      Lirtim36   23   Male"
      ]
     },
     "execution_count": 15,
     "metadata": {},
     "output_type": "execute_result"
    }
   ],
   "source": [
    "## Player Count\n",
    "# Change Column Header from SN to Screen Name\n",
    "total_player_df = total_player_df.rename(columns={'SN':'Screen Name'})\n",
    "total_player_df.head()"
   ]
  },
  {
   "cell_type": "code",
   "execution_count": 126,
   "metadata": {
    "collapsed": true
   },
   "outputs": [],
   "source": [
    "## Player Count\n",
    "# Count the total number of unique players\n",
    "player_count = len(total_player_df['Screen Name'].unique())\n",
    "\n",
    "total_players = pd.DataFrame({'Total Players':[player_count]})\n"
   ]
  },
  {
   "cell_type": "code",
   "execution_count": 127,
   "metadata": {},
   "outputs": [
    {
     "data": {
      "text/html": [
       "<div>\n",
       "<style>\n",
       "    .dataframe thead tr:only-child th {\n",
       "        text-align: right;\n",
       "    }\n",
       "\n",
       "    .dataframe thead th {\n",
       "        text-align: left;\n",
       "    }\n",
       "\n",
       "    .dataframe tbody tr th {\n",
       "        vertical-align: top;\n",
       "    }\n",
       "</style>\n",
       "<table border=\"1\" class=\"dataframe\">\n",
       "  <thead>\n",
       "    <tr style=\"text-align: right;\">\n",
       "      <th></th>\n",
       "      <th>Male Players</th>\n",
       "      <th>Percent Male</th>\n",
       "      <th>Female Players</th>\n",
       "      <th>Percent Female</th>\n",
       "      <th>Other Players</th>\n",
       "      <th>Percent Other</th>\n",
       "    </tr>\n",
       "  </thead>\n",
       "  <tbody>\n",
       "    <tr>\n",
       "      <th>0</th>\n",
       "      <td>954</td>\n",
       "      <td>82.17</td>\n",
       "      <td>187</td>\n",
       "      <td>16.11</td>\n",
       "      <td>20</td>\n",
       "      <td>1.72</td>\n",
       "    </tr>\n",
       "  </tbody>\n",
       "</table>\n",
       "</div>"
      ],
      "text/plain": [
       "   Male Players  Percent Male  Female Players  Percent Female  Other Players  \\\n",
       "0           954         82.17             187           16.11             20   \n",
       "\n",
       "   Percent Other  \n",
       "0           1.72  "
      ]
     },
     "execution_count": 127,
     "metadata": {},
     "output_type": "execute_result"
    }
   ],
   "source": [
    "## Gender Demographics\n",
    "# Identify percentage of male, female, and other/non-disclosed players\n",
    "\n",
    "male_players = total_player_df['Gender'].value_counts()['Male']\n",
    "perc_male = (male_players / player_count) * 100\n",
    "\n",
    "female_players = total_player_df['Gender'].value_counts()['Female']\n",
    "perc_female = (female_players / player_count) * 100\n",
    "\n",
    "other_players = player_count - male_players - female_players\n",
    "perc_other = (other_players / player_count) * 100\n",
    "\n",
    "gender_demographics = pd.DataFrame({\"Male Players\": [male_players],\n",
    "                                   \"Percent Male\": [perc_male],\n",
    "                                   \"Female Players\": [female_players],\n",
    "                                   \"Percent Female\": [perc_female],\n",
    "                                   \"Other Players\": [other_players],\n",
    "                                   \"Percent Other\":[perc_other],\n",
    "})\n",
    "\n",
    "gender_demographics = gender_demographics[['Male Players','Percent Male','Female Players','Percent Female','Other Players','Percent Other']]\n",
    "gender_demographics = gender_demographics.round(2)\n",
    "gender_demographics\n"
   ]
  },
  {
   "cell_type": "code",
   "execution_count": 128,
   "metadata": {},
   "outputs": [
    {
     "data": {
      "text/html": [
       "<div>\n",
       "<style>\n",
       "    .dataframe thead tr:only-child th {\n",
       "        text-align: right;\n",
       "    }\n",
       "\n",
       "    .dataframe thead th {\n",
       "        text-align: left;\n",
       "    }\n",
       "\n",
       "    .dataframe tbody tr th {\n",
       "        vertical-align: top;\n",
       "    }\n",
       "</style>\n",
       "<table border=\"1\" class=\"dataframe\">\n",
       "  <thead>\n",
       "    <tr style=\"text-align: right;\">\n",
       "      <th></th>\n",
       "      <th>Number of Unique Items</th>\n",
       "      <th>Average Price</th>\n",
       "      <th>Number of Purchases</th>\n",
       "      <th>Total Revenue</th>\n",
       "    </tr>\n",
       "  </thead>\n",
       "  <tbody>\n",
       "    <tr>\n",
       "      <th>0</th>\n",
       "      <td>180</td>\n",
       "      <td>2.98</td>\n",
       "      <td>1638</td>\n",
       "      <td>4879.6</td>\n",
       "    </tr>\n",
       "  </tbody>\n",
       "</table>\n",
       "</div>"
      ],
      "text/plain": [
       "   Number of Unique Items  Average Price  Number of Purchases  Total Revenue\n",
       "0                     180           2.98                 1638         4879.6"
      ]
     },
     "execution_count": 128,
     "metadata": {},
     "output_type": "execute_result"
    }
   ],
   "source": [
    "## Purchasing Analysis (TOTAL)\n",
    "# Concatenate the 3 json files\n",
    "all_purchases = pd.concat([purchase_df, purchase2_df, purchase3_df], ignore_index=True)\n",
    "\n",
    "# Number of Unique Items\n",
    "#unique_items = all_purchase['Item Name'].count()\n",
    "unique_items = len(all_purchases[\"Item Name\"].unique())\n",
    "\n",
    "# Average purchase price\n",
    "avg_purchase_price = all_purchases['Price'].mean()\n",
    "\n",
    "# Total purchases\n",
    "total_purchases = len(all_purchases)\n",
    "\n",
    "# Total revenue\n",
    "total_revenue = all_purchases['Price'].sum()\n",
    "\n",
    "# Create DataFrame\n",
    "purchase_analysis_total = pd.DataFrame({\"Number of Unique Items\": [unique_items],\n",
    "                                   \"Average Price\": [avg_purchase_price],\n",
    "                                   \"Number of Purchases\": [total_purchases],\n",
    "                                   \"Total Revenue\": [total_revenue]\n",
    "})\n",
    "\n",
    "purchase_analysis_total = purchase_analysis_total[['Number of Unique Items', 'Average Price', 'Number of Purchases', 'Total Revenue']]\n",
    "purchase_analysis_total = purchase_analysis_total.round(2)\n",
    "purchase_analysis_total\n"
   ]
  },
  {
   "cell_type": "code",
   "execution_count": 141,
   "metadata": {},
   "outputs": [
    {
     "data": {
      "text/html": [
       "<div>\n",
       "<style>\n",
       "    .dataframe thead tr:only-child th {\n",
       "        text-align: right;\n",
       "    }\n",
       "\n",
       "    .dataframe thead th {\n",
       "        text-align: left;\n",
       "    }\n",
       "\n",
       "    .dataframe tbody tr th {\n",
       "        vertical-align: top;\n",
       "    }\n",
       "</style>\n",
       "<table border=\"1\" class=\"dataframe\">\n",
       "  <thead>\n",
       "    <tr style=\"text-align: right;\">\n",
       "      <th></th>\n",
       "      <th>Female Average Price</th>\n",
       "      <th>Female Purchase Count</th>\n",
       "      <th>Female Total Value</th>\n",
       "      <th>Male Average Price</th>\n",
       "      <th>Male Purchase Count</th>\n",
       "      <th>Male Total Value</th>\n",
       "      <th>Other Average Price</th>\n",
       "      <th>Other Purchase Count</th>\n",
       "      <th>Other Total Value</th>\n",
       "    </tr>\n",
       "  </thead>\n",
       "  <tbody>\n",
       "    <tr>\n",
       "      <th>0</th>\n",
       "      <td>2.939391</td>\n",
       "      <td>279</td>\n",
       "      <td>820.09</td>\n",
       "      <td>2.985653</td>\n",
       "      <td>1339</td>\n",
       "      <td>3997.79</td>\n",
       "      <td>3.086</td>\n",
       "      <td>20</td>\n",
       "      <td>61.72</td>\n",
       "    </tr>\n",
       "  </tbody>\n",
       "</table>\n",
       "</div>"
      ],
      "text/plain": [
       "   Female Average Price  Female Purchase Count  Female Total Value  \\\n",
       "0              2.939391                    279              820.09   \n",
       "\n",
       "   Male Average Price  Male Purchase Count  Male Total Value  \\\n",
       "0            2.985653                 1339           3997.79   \n",
       "\n",
       "   Other Average Price  Other Purchase Count  Other Total Value  \n",
       "0                3.086                    20              61.72  "
      ]
     },
     "execution_count": 141,
     "metadata": {},
     "output_type": "execute_result"
    }
   ],
   "source": [
    "## Purchasing Analysis (GENDER) \n",
    "# Identify purchase count by M/F/O\n",
    "male_purchase_count = all_purchases['Gender'].value_counts()['Male']\n",
    "female_purchase_count = all_purchases['Gender'].value_counts()['Female']\n",
    "other_purchase_count = total_purchases - male_purchase_count - female_purchase_count\n",
    "\n",
    "# Average Purchase Price and Total Revenue by M/F/O\n",
    "# males\n",
    "male_purchases = all_purchases.loc[all_purchases['Gender'] == 'Male', :]\n",
    "male_avg_price = male_purchases['Price'].mean()\n",
    "male_revenue = male_purchases['Price'].sum()\n",
    "\n",
    "# females\n",
    "female_purchases = all_purchases.loc[all_purchases['Gender'] == 'Female', :]\n",
    "female_avg_price = female_purchases['Price'].mean()\n",
    "female_revenue = female_purchases['Price'].sum()\n",
    "\n",
    "#others\n",
    "other_purchases_minus_female = all_purchases.loc[all_purchases['Gender'] != 'Female', :]\n",
    "other_purchases = other_purchases_minus_female.loc[other_purchases_minus_female['Gender'] != 'Male', :]\n",
    "other_avg_price = other_purchases['Price'].mean()\n",
    "other_revenue = total_revenue - male_revenue - female_revenue\n",
    "\n",
    "# Normalized Totals of M/F/O\n",
    "\n",
    "# Create DataFrame\n",
    "purchase_analysis_gender = pd.DataFrame({\"Male Purchase Count\": [male_purchase_count],\n",
    "                                   \"Male Average Price\": [male_avg_price],\n",
    "                                   \"Male Total Value\": [male_revenue],\n",
    "                                         \"Female Purchase Count\": [female_purchase_count],\n",
    "                                   \"Female Average Price\": [female_avg_price],\n",
    "                                   \"Female Total Value\": [female_revenue],\n",
    "                                         \"Other Purchase Count\": [other_purchase_count],\n",
    "                                   \"Other Average Price\": [other_avg_price],\n",
    "                                   \"Other Total Value\": [other_revenue]\n",
    "})\n",
    "purchase_analysis_gender"
   ]
  },
  {
   "cell_type": "code",
   "execution_count": null,
   "metadata": {},
   "outputs": [],
   "source": [
    "\n"
   ]
  },
  {
   "cell_type": "code",
   "execution_count": null,
   "metadata": {
    "collapsed": true
   },
   "outputs": [],
   "source": []
  }
 ],
 "metadata": {
  "kernelspec": {
   "display_name": "Python 3",
   "language": "python",
   "name": "python3"
  },
  "language_info": {
   "codemirror_mode": {
    "name": "ipython",
    "version": 3
   },
   "file_extension": ".py",
   "mimetype": "text/x-python",
   "name": "python",
   "nbconvert_exporter": "python",
   "pygments_lexer": "ipython3",
   "version": "3.6.3"
  }
 },
 "nbformat": 4,
 "nbformat_minor": 2
}
